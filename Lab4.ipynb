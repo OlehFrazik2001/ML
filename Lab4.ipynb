{
  "nbformat": 4,
  "nbformat_minor": 0,
  "metadata": {
    "colab": {
      "name": "Lab4.ipynb",
      "provenance": [],
      "authorship_tag": "ABX9TyNNP+QSUCPIhs563a91lpyl",
      "include_colab_link": true
    },
    "kernelspec": {
      "name": "python3",
      "display_name": "Python 3"
    },
    "language_info": {
      "name": "python"
    }
  },
  "cells": [
    {
      "cell_type": "markdown",
      "metadata": {
        "id": "view-in-github",
        "colab_type": "text"
      },
      "source": [
        "<a href=\"https://colab.research.google.com/github/OlehFrazik2001/ML/blob/main/Lab4.ipynb\" target=\"_parent\"><img src=\"https://colab.research.google.com/assets/colab-badge.svg\" alt=\"Open In Colab\"/></a>"
      ]
    },
    {
      "cell_type": "code",
      "metadata": {
        "id": "zV2tyaYMq20w"
      },
      "source": [
        "import matplotlib.pyplot as plt"
      ],
      "execution_count": 1,
      "outputs": []
    },
    {
      "cell_type": "code",
      "metadata": {
        "id": "hY5RcW_wrIN3"
      },
      "source": [
        "def func(x):\n",
        "    return x*x + 2*x + 1"
      ],
      "execution_count": 2,
      "outputs": []
    },
    {
      "cell_type": "code",
      "metadata": {
        "id": "roVsdTRVq5j1"
      },
      "source": [
        "def pohidna(x, h):\n",
        "    return (func(x+h) - func(x-h)) / (2 * h)"
      ],
      "execution_count": 3,
      "outputs": []
    },
    {
      "cell_type": "code",
      "metadata": {
        "id": "ZcOCU37sq9ll"
      },
      "source": [
        "def plotFunction():\n",
        "    z = []\n",
        "    b = []\n",
        "    x = -5\n",
        "    for i in range(100):\n",
        "        x += 0.1\n",
        "        y = func(x)\n",
        "        z.append(x)\n",
        "        b.append(y)\n",
        "    plt.title(\"Графік функції\")\n",
        "    plt.plot(z, b)"
      ],
      "execution_count": 4,
      "outputs": []
    },
    {
      "cell_type": "code",
      "metadata": {
        "id": "5ckUImyGrCzO"
      },
      "source": [
        "def grad(alpha, eps):\n",
        "    x = 0\n",
        "    h = 0.1\n",
        "    for i in range(1, 1000):\n",
        "        x_new = x - alpha * pohidna(x, h)\n",
        "        y_new = func(x)\n",
        "        if abs(x_new - x) <= eps:\n",
        "            plt.scatter(x_new, y_new, color=\"r\", label=\"Локальний мінімум\")\n",
        "            plt.legend()\n",
        "            plt.show()\n",
        "            print('Min', x_new, y_new)\n",
        "            return x_new, y_new\n",
        "        x = x_new\n",
        "    plt.legend()\n",
        "    plt.show()\n",
        "    return x_new, y_new"
      ],
      "execution_count": 5,
      "outputs": []
    },
    {
      "cell_type": "code",
      "metadata": {
        "colab": {
          "base_uri": "https://localhost:8080/",
          "height": 314
        },
        "id": "mT8QlVpzrFdM",
        "outputId": "97e3f63b-f086-49a1-d6cb-5c8d60d1bc4f"
      },
      "source": [
        "plotFunction()\n",
        "grad(0.2, 0.0001)"
      ],
      "execution_count": 6,
      "outputs": [
        {
          "output_type": "display_data",
          "data": {
            "image/png": "[encoded data removed]",
            "text/plain": [
              "<Figure size 432x288 with 1 Axes>"
            ]
          },
          "metadata": {
            "needs_background": "light"
          }
        },
        {
          "output_type": "stream",
          "name": "stdout",
          "text": [
            "Min -0.9998984400433316 2.865117998407385e-08\n"
          ]
        },
        {
          "output_type": "execute_result",
          "data": {
            "text/plain": [
              "(-0.9998984400433316, 2.865117998407385e-08)"
            ]
          },
          "metadata": {},
          "execution_count": 6
        }
      ]
    },
    {
      "cell_type": "code",
      "metadata": {
        "colab": {
          "base_uri": "https://localhost:8080/",
          "height": 314
        },
        "id": "PuuGhdy3v7a6",
        "outputId": "aa8de53c-4ac0-4cc4-b08e-fb31c79181a6"
      },
      "source": [
        "plotFunction()\n",
        "grad(0.2, 0.01)"
      ],
      "execution_count": 7,
      "outputs": [
        {
          "output_type": "display_data",
          "data": {
            "image/png": "[encoded data removed]",
            "text/plain": [
              "<Figure size 432x288 with 1 Axes>"
            ]
          },
          "metadata": {
            "needs_background": "light"
          }
        },
        {
          "output_type": "stream",
          "name": "stdout",
          "text": [
            "Min -0.9899223039999998 0.00028211099074559876\n"
          ]
        },
        {
          "output_type": "execute_result",
          "data": {
            "text/plain": [
              "(-0.9899223039999998, 0.00028211099074559876)"
            ]
          },
          "metadata": {},
          "execution_count": 7
        }
      ]
    },
    {
      "cell_type": "code",
      "metadata": {
        "colab": {
          "base_uri": "https://localhost:8080/",
          "height": 314
        },
        "id": "EETwgUPGwBe5",
        "outputId": "3a44601e-42b5-44f8-8f9b-462d5e4d4bf2"
      },
      "source": [
        "plotFunction()\n",
        "grad(0.8, 0.01)"
      ],
      "execution_count": 8,
      "outputs": [
        {
          "output_type": "display_data",
          "data": {
            "image/png": "[encoded data removed]",
            "text/plain": [
              "<Figure size 432x288 with 1 Axes>"
            ]
          },
          "metadata": {
            "needs_background": "light"
          }
        },
        {
          "output_type": "stream",
          "name": "stdout",
          "text": [
            "Min -1.0036279705600002 3.656158440068502e-05\n"
          ]
        },
        {
          "output_type": "execute_result",
          "data": {
            "text/plain": [
              "(-1.0036279705600002, 3.656158440068502e-05)"
            ]
          },
          "metadata": {},
          "execution_count": 8
        }
      ]
    },
    {
      "cell_type": "code",
      "metadata": {
        "colab": {
          "base_uri": "https://localhost:8080/"
        },
        "id": "Dlqxxx6juXfQ",
        "outputId": "a1892dd8-0dbf-4942-ba5b-fadce64d6e5a"
      },
      "source": [
        "import unittest\n",
        "from scipy.misc import derivative\n",
        "\n",
        "\n",
        "class TestNotebook(unittest.TestCase):\n",
        "    \n",
        "    def test_pohidna(self):\n",
        "        self.assertAlmostEqual(pohidna(0, 0.1), 2)\n",
        "    def test_pohidna2(self):\n",
        "        self.assertAlmostEqual(derivative(func, 0, dx=1e-6), 2)\n",
        "        \n",
        "\n",
        "unittest.main(argv=[''], verbosity=2, exit=False)"
      ],
      "execution_count": 9,
      "outputs": [
        {
          "output_type": "stream",
          "name": "stderr",
          "text": [
            "test_pohidna (__main__.TestNotebook) ... ok\n",
            "test_pohidna2 (__main__.TestNotebook) ... ok\n",
            "\n",
            "----------------------------------------------------------------------\n",
            "Ran 2 tests in 0.007s\n",
            "\n",
            "OK\n"
          ]
        },
        {
          "output_type": "execute_result",
          "data": {
            "text/plain": [
              "<unittest.main.TestProgram at 0x7faa3965a490>"
            ]
          },
          "metadata": {},
          "execution_count": 9
        }
      ]
    }
  ]
}
{
  "nbformat": 4,
  "nbformat_minor": 0,
  "metadata": {
    "colab": {
      "name": "Lab6.ipynb",
      "provenance": [],
      "collapsed_sections": [],
      "authorship_tag": "ABX9TyMS5JAnV/3yC+KUrRV7clxn",
      "include_colab_link": true
    },
    "kernelspec": {
      "name": "python3",
      "display_name": "Python 3"
    },
    "language_info": {
      "name": "python"
    }
  },
  "cells": [
    {
      "cell_type": "markdown",
      "metadata": {
        "id": "view-in-github",
        "colab_type": "text"
      },
      "source": [
        "<a href=\"https://colab.research.google.com/github/OlehFrazik2001/ML/blob/main/Lab6.ipynb\" target=\"_parent\"><img src=\"https://colab.research.google.com/assets/colab-badge.svg\" alt=\"Open In Colab\"/></a>"
      ]
    },
    {
      "cell_type": "code",
      "execution_count": 5,
      "metadata": {
        "id": "TaxNOhdmGR_y"
      },
      "outputs": [],
      "source": [
        "import numpy as np\n",
        "from matplotlib import pyplot as plt"
      ]
    },
    {
      "cell_type": "code",
      "source": [
        "def sigmoid(z):\n",
        "    return 1 / (1 + np.exp(-z))"
      ],
      "metadata": {
        "id": "4h-K79sdGhTg"
      },
      "execution_count": 2,
      "outputs": []
    },
    {
      "cell_type": "code",
      "source": [
        "def initializeParameters(inputFeatures, neuronsInHiddenLayers, outputFeatures):\n",
        "    W1 = np.random.randn(neuronsInHiddenLayers, inputFeatures)\n",
        "    W2 = np.random.randn(outputFeatures, neuronsInHiddenLayers)\n",
        "    b1 = np.zeros((neuronsInHiddenLayers, 1))\n",
        "    b2 = np.zeros((outputFeatures, 1))\n",
        "     \n",
        "    parameters = {\"W1\" : W1, \"b1\": b1,\n",
        "                  \"W2\" : W2, \"b2\": b2}\n",
        "    return parameters"
      ],
      "metadata": {
        "id": "lCRyc0ZnGj5g"
      },
      "execution_count": 3,
      "outputs": []
    },
    {
      "cell_type": "code",
      "source": [
        "def forwardPropagation(X, Y, parameters):\n",
        "    m = X.shape[1]\n",
        "    W1 = parameters[\"W1\"]\n",
        "    W2 = parameters[\"W2\"]\n",
        "    b1 = parameters[\"b1\"]\n",
        "    b2 = parameters[\"b2\"]\n",
        " \n",
        "    Z1 = np.dot(W1, X) + b1\n",
        "    A1 = sigmoid(Z1)\n",
        "    Z2 = np.dot(W2, A1) + b2\n",
        "    A2 = sigmoid(Z2)\n",
        " \n",
        "    cache = (Z1, A1, W1, b1, Z2, A2, W2, b2)\n",
        "    logprobs = np.multiply(np.log(A2), Y) + np.multiply(np.log(1 - A2), (1 - Y))\n",
        "    cost = -np.sum(logprobs) / m\n",
        "    return cost, cache, A2"
      ],
      "metadata": {
        "id": "-1YdSLHWGmX4"
      },
      "execution_count": 4,
      "outputs": []
    },
    {
      "cell_type": "code",
      "source": [
        "def backwardPropagation(X, Y, cache):\n",
        "    m = X.shape[1]\n",
        "    (Z1, A1, W1, b1, Z2, A2, W2, b2) = cache\n",
        "     \n",
        "    dZ2 = A2 - Y\n",
        "    dW2 = np.dot(dZ2, A1.T) / m\n",
        "    db2 = np.sum(dZ2, axis = 1, keepdims = True)\n",
        "     \n",
        "    dA1 = np.dot(W2.T, dZ2)\n",
        "    dZ1 = np.multiply(dA1, A1 * (1- A1))\n",
        "    dW1 = np.dot(dZ1, X.T) / m\n",
        "    db1 = np.sum(dZ1, axis = 1, keepdims = True) / m\n",
        "     \n",
        "    gradients = {\"dZ2\": dZ2, \"dW2\": dW2, \"db2\": db2,\n",
        "                 \"dZ1\": dZ1, \"dW1\": dW1, \"db1\": db1}\n",
        "    return gradients"
      ],
      "metadata": {
        "id": "i1q8Qc-qGo4_"
      },
      "execution_count": 8,
      "outputs": []
    },
    {
      "cell_type": "code",
      "source": [
        "def updateParameters(parameters, gradients, learningRate):\n",
        "    parameters[\"W1\"] = parameters[\"W1\"] - learningRate * gradients[\"dW1\"]\n",
        "    parameters[\"W2\"] = parameters[\"W2\"] - learningRate * gradients[\"dW2\"]\n",
        "    parameters[\"b1\"] = parameters[\"b1\"] - learningRate * gradients[\"db1\"]\n",
        "    parameters[\"b2\"] = parameters[\"b2\"] - learningRate * gradients[\"db2\"]\n",
        "    return parameters"
      ],
      "metadata": {
        "id": "tTzXVIAKGrRu"
      },
      "execution_count": 7,
      "outputs": []
    },
    {
      "cell_type": "code",
      "source": [
        "X = np.array([[0, 0, 1, 1], [0, 1, 0, 1]]) # AND input\n",
        "Y = np.array([[0, 0, 0, 1]]) # AND output\n"
      ],
      "metadata": {
        "id": "4Qgg5jopGtnY"
      },
      "execution_count": 6,
      "outputs": []
    },
    {
      "cell_type": "code",
      "source": [
        "neuronsInHiddenLayers = 2 # number of hidden layer neurons (2)\n",
        "inputFeatures = X.shape[0] # number of input features (2)\n",
        "outputFeatures = Y.shape[0] # number of output features (1)\n",
        "parameters = initializeParameters(inputFeatures, neuronsInHiddenLayers, outputFeatures)\n",
        "epoch = 100000\n",
        "learningRate = 0.01\n",
        "losses = np.zeros((epoch, 1))\n",
        " \n",
        "for i in range(epoch):\n",
        "    losses[i, 0], cache, A2 = forwardPropagation(X, Y, parameters)\n",
        "    gradients = backwardPropagation(X, Y, cache)\n",
        "    parameters = updateParameters(parameters, gradients, learningRate)\n",
        " "
      ],
      "metadata": {
        "id": "Vj0-YH2ZGxuu"
      },
      "execution_count": 9,
      "outputs": []
    },
    {
      "cell_type": "code",
      "source": [
        "plt.figure()\n",
        "plt.plot(losses)\n",
        "plt.xlabel(\"EPOCHS\")\n",
        "plt.ylabel(\"Loss value\")\n",
        "plt.show()"
      ],
      "metadata": {
        "colab": {
          "base_uri": "https://localhost:8080/",
          "height": 279
        },
        "id": "ozRoHwcpGzsn",
        "outputId": "e7640144-163e-491c-ce04-5b63cb6b4f60"
      },
      "execution_count": 10,
      "outputs": [
        {
          "output_type": "display_data",
          "data": {
            "image/png": "[encoded data removed]",
            "text/plain": [
              "<Figure size 432x288 with 1 Axes>"
            ]
          },
          "metadata": {
            "needs_background": "light"
          }
        }
      ]
    },
    {
      "cell_type": "code",
      "source": [
        "X = np.array([[1, 1, 0, 0], [0, 1, 0, 1]])\n",
        "cost, _, A2 = forwardPropagation(X, Y, parameters)\n",
        "prediction = (A2 > 0.5) * 1.0\n",
        "for i in range(4):\n",
        "  print(X[0][i],'|', X[1][i],'|', prediction[0][i])"
      ],
      "metadata": {
        "id": "Su0fUycgG1TB",
        "colab": {
          "base_uri": "https://localhost:8080/"
        },
        "outputId": "1c88a33d-ea8d-4b31-f9f7-57b439f8a231"
      },
      "execution_count": 17,
      "outputs": [
        {
          "output_type": "stream",
          "name": "stdout",
          "text": [
            "1 | 0 | 0.0\n",
            "1 | 1 | 1.0\n",
            "0 | 0 | 0.0\n",
            "0 | 1 | 0.0\n"
          ]
        }
      ]
    }
  ]
}
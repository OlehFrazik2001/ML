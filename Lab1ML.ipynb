{
  "nbformat": 4,
  "nbformat_minor": 0,
  "metadata": {
    "colab": {
      "name": "Lab1ML.ipynb",
      "provenance": [],
      "collapsed_sections": [],
      "authorship_tag": "ABX9TyPqqy9eeVi+05RIHtamJCdh",
      "include_colab_link": true
    },
    "kernelspec": {
      "name": "python3",
      "display_name": "Python 3"
    },
    "language_info": {
      "name": "python"
    }
  },
  "cells": [
    {
      "cell_type": "markdown",
      "metadata": {
        "id": "view-in-github",
        "colab_type": "text"
      },
      "source": [
        "<a href=\"https://colab.research.google.com/github/OlehFrazik2001/ML/blob/main/Lab1ML.ipynb\" target=\"_parent\"><img src=\"https://colab.research.google.com/assets/colab-badge.svg\" alt=\"Open In Colab\"/></a>"
      ]
    },
    {
      "cell_type": "code",
      "metadata": {
        "id": "VB6lqbStp2yg"
      },
      "source": [
        "import random\n",
        "from sklearn.cluster import KMeans\n",
        "import matplotlib.pyplot as plt"
      ],
      "execution_count": null,
      "outputs": []
    },
    {
      "cell_type": "code",
      "metadata": {
        "colab": {
          "base_uri": "https://localhost:8080/"
        },
        "id": "z0_k6RmYp7Sq",
        "outputId": "fa85aabf-c3ed-4c29-f096-66f7b9f8c4f1"
      },
      "source": [
        "x = [random.randint(1, 100) for _ in range(50)]\n",
        "y = [random.randint(1, 100) for _ in range(50)]\n",
        "xy = []\n",
        "for i in range(len(x)):\n",
        "  xy.append([x[i], y[i]])\n",
        "print(xy)"
      ],
      "execution_count": null,
      "outputs": [
        {
          "output_type": "stream",
          "name": "stdout",
          "text": [
            "[[72, 32], [45, 83], [97, 32], [20, 28], [81, 15], [28, 87], [82, 13], [26, 39], [48, 93], [31, 11], [72, 55], [23, 8], [67, 5], [51, 63], [25, 95], [45, 25], [75, 10], [59, 50], [49, 52], [86, 80], [55, 99], [96, 12], [51, 32], [19, 77], [1, 15], [74, 98], [6, 93], [100, 17], [79, 84], [37, 56], [89, 60], [39, 43], [20, 61], [29, 71], [93, 30], [92, 42], [88, 93], [90, 62], [12, 12], [61, 10], [86, 15], [29, 34], [10, 51], [23, 34], [27, 2], [74, 66], [54, 84], [21, 26], [45, 46], [23, 47]]\n"
          ]
        }
      ]
    },
    {
      "cell_type": "code",
      "metadata": {
        "colab": {
          "base_uri": "https://localhost:8080/"
        },
        "id": "l5kI-Gu5D5Ul",
        "outputId": "8da477ca-173c-4123-d7ce-089af0be066b"
      },
      "source": [
        "kmeans = KMeans(3)\n",
        "\n",
        "identified_clusters = kmeans.fit_predict(xy)\n",
        "identified_clusters"
      ],
      "execution_count": null,
      "outputs": [
        {
          "output_type": "execute_result",
          "data": {
            "text/plain": [
              "array([2, 0, 2, 1, 2, 0, 2, 1, 0, 1, 2, 1, 2, 0, 0, 1, 2, 2, 1, 0, 0, 2,\n",
              "       1, 0, 1, 0, 0, 2, 0, 1, 2, 1, 1, 0, 2, 2, 0, 2, 1, 2, 2, 1, 1, 1,\n",
              "       1, 0, 0, 1, 1, 1], dtype=int32)"
            ]
          },
          "metadata": {},
          "execution_count": 3
        }
      ]
    },
    {
      "cell_type": "code",
      "metadata": {
        "id": "nq5I1M2AVUNy"
      },
      "source": [
        "def serednyeZnachennya(array):\n",
        "  x = 0\n",
        "  for i in array:\n",
        "    x += i\n",
        "  return x / len(array)"
      ],
      "execution_count": null,
      "outputs": []
    },
    {
      "cell_type": "code",
      "metadata": {
        "id": "VG289gCmV2yA"
      },
      "source": [
        "dataX = {'0':[],\n",
        "         '1':[],\n",
        "         '2':[]}\n",
        "dataY = {'0':[],\n",
        "         '1':[],\n",
        "         '2':[]}\n",
        "j = 0\n",
        "for i in identified_clusters:\n",
        "  dataX[str(i)].append(x[j])\n",
        "  dataY[str(i)].append(y[j])\n",
        "  j += 1"
      ],
      "execution_count": null,
      "outputs": []
    },
    {
      "cell_type": "code",
      "metadata": {
        "colab": {
          "base_uri": "https://localhost:8080/",
          "height": 282
        },
        "id": "NkekVlEsabad",
        "outputId": "336d919f-d4e1-4ec4-a996-80b312e4cd42"
      },
      "source": [
        "plt.scatter(serednyeZnachennya(dataX['0']), serednyeZnachennya(dataY['0']))\n",
        "plt.scatter(serednyeZnachennya(dataX['1']), serednyeZnachennya(dataY['1']))\n",
        "plt.scatter(serednyeZnachennya(dataX['2']), serednyeZnachennya(dataY['2']))\n",
        "plt.scatter(x, y,c=identified_clusters,cmap='rainbow')"
      ],
      "execution_count": null,
      "outputs": [
        {
          "output_type": "execute_result",
          "data": {
            "text/plain": [
              "<matplotlib.collections.PathCollection at 0x7f9a10e7f910>"
            ]
          },
          "metadata": {},
          "execution_count": 6
        },
        {
          "output_type": "display_data",
          "data": {
            "image/png": "[encoded data removed]",
            "text/plain": [
              "<Figure size 432x288 with 1 Axes>"
            ]
          },
          "metadata": {
            "needs_background": "light"
          }
        }
      ]
    }
  ]
}